# Random Forest IPL Prediction Notebook

This contains a simplified version using Random Forest.